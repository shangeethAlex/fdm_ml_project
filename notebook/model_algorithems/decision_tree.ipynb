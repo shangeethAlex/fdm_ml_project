{
 "cells": [
  {
   "cell_type": "code",
   "execution_count": 1,
   "metadata": {},
   "outputs": [],
   "source": [
    "import numpy as np \n",
    "import pandas as pd\n",
    "import matplotlib.pyplot as plt\n",
    "from sklearn.model_selection import train_test_split"
   ]
  },
  {
   "cell_type": "code",
   "execution_count": 2,
   "metadata": {},
   "outputs": [],
   "source": [
    "#read csv file\n",
    "df = pd.read_csv(\"../data/preprocessig_data.csv\")"
   ]
  },
  {
   "cell_type": "code",
   "execution_count": 3,
   "metadata": {},
   "outputs": [],
   "source": [
    "\n",
    "from sklearn.preprocessing import MinMaxScaler\n",
    "\n",
    "# creates an instance of the MinMaxScaler, setting the range of the output to be between 0 and 70.\n",
    "scaler = MinMaxScaler(feature_range=(0, 70))\n",
    "\n",
    "# extracts the column CO2 Emissions(g/km) from the DataFrame df and reshapes it into a 2D array.\n",
    "column_to_scale = df['CO2 Emissions(g/km)'].values.reshape(-1, 1)\n",
    "\n",
    "# This scales the values in column_to_scale using the MinMaxScaler.it and transform the column using the scaler\n",
    "scaled_column = scaler.fit_transform(column_to_scale)\n",
    "\n",
    "# This replaces the original column in the DataFrame with the scaled values.\n",
    "df['CO2 Emissions(g/km)'] = scaled_column"
   ]
  }
 ],
 "metadata": {
  "kernelspec": {
   "display_name": "Python 3",
   "language": "python",
   "name": "python3"
  },
  "language_info": {
   "codemirror_mode": {
    "name": "ipython",
    "version": 3
   },
   "file_extension": ".py",
   "mimetype": "text/x-python",
   "name": "python",
   "nbconvert_exporter": "python",
   "pygments_lexer": "ipython3",
   "version": "3.12.4"
  }
 },
 "nbformat": 4,
 "nbformat_minor": 2
}
